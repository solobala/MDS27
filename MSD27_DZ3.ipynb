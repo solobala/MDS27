{
  "nbformat": 4,
  "nbformat_minor": 0,
  "metadata": {
    "colab": {
      "provenance": [],
      "authorship_tag": "ABX9TyOzrSn6IxZVqMJcCjOcgSaT",
      "include_colab_link": true
    },
    "kernelspec": {
      "name": "python3",
      "display_name": "Python 3"
    },
    "language_info": {
      "name": "python"
    }
  },
  "cells": [
    {
      "cell_type": "markdown",
      "metadata": {
        "id": "view-in-github",
        "colab_type": "text"
      },
      "source": [
        "<a href=\"https://colab.research.google.com/github/solobala/MDS27/blob/main/MSD27_DZ3.ipynb\" target=\"_parent\"><img src=\"https://colab.research.google.com/assets/colab-badge.svg\" alt=\"Open In Colab\"/></a>"
      ]
    },
    {
      "cell_type": "markdown",
      "source": [
        "### Домашнее задание \"Продвинутая линейная алгебра\"."
      ],
      "metadata": {
        "id": "kINo7yqYzpTr"
      }
    },
    {
      "cell_type": "markdown",
      "source": [
        "#### Уровень 0:\n",
        "Задание 1\n",
        "Дан объект в \n",
        " пространстве\n",
        " При помощи линейных отображений:\n",
        "\n",
        "Уменьшить объект в два раза\n",
        "Повернуть на 130 градусов\n",
        "Отразить объект относительно прямой y=x (поможет матрица [[0, 1, 0], [1, 0, 0], [0, 0, 1]])"
      ],
      "metadata": {
        "id": "SrLYIp9rzuf-"
      }
    },
    {
      "cell_type": "code",
      "source": [
        "import numpy as np\n",
        "import matplotlib.pyplot as plt\n",
        "A = np.array([])"
      ],
      "metadata": {
        "id": "i0wOcdXHQcjh"
      },
      "execution_count": null,
      "outputs": []
    },
    {
      "cell_type": "code",
      "source": [
        "def init(A):\n",
        "  \"\"\"\n",
        "  Задаем исходную матрицу\n",
        "  \"\"\"\n",
        "  A = np.array([\n",
        "  [-100, -100, 1],\n",
        "  [-100, 100, 1],\n",
        "  [100, 100, 1],\n",
        "  [0, 0, 1],\n",
        "  [100, -100, 1],\n",
        "  [-100, -100, 1]\n",
        "  ])\n",
        "  return(A)"
      ],
      "metadata": {
        "id": "MHuzzhDOf9Bs"
      },
      "execution_count": null,
      "outputs": []
    },
    {
      "cell_type": "code",
      "execution_count": null,
      "metadata": {
        "id": "ZOaSTw-Gziu3"
      },
      "outputs": [],
      "source": [
        "def get_draw(A, title):\n",
        "  \"\"\"\n",
        "  Инициализирует исходную матрицу.\n",
        "  Выводит чертеж фигуры с вершинами,\n",
        "  кoординаты которых содержатся в строках матрицы А.\n",
        "  Возвращает матрицу\n",
        "  \"\"\"\n",
        "\n",
        "  x = A[:,0]\n",
        "  y = A[:,1]\n",
        "  fig, ax = plt.subplots()\n",
        "  ax.plot(x,y)\n",
        "  # plt.plot(x, y)\n",
        "  plt.ylim([-200, 200])\n",
        "  plt.xlim([-200, 200])\n",
        "  ax.set(title=title)\n",
        "  return(A) "
      ]
    },
    {
      "cell_type": "code",
      "source": [
        "def get_stretch(x,y,z,A,title):\n",
        "  \"\"\"\n",
        "  Выполняет растяжение - сжатие по осям x,y,z\n",
        "  в соответствии с передаваемыми коэффициентами\n",
        "  \"\"\"\n",
        "  B = np.array([[x,0,0],[0,y,0],[0,0,z]])\n",
        "  res = B @ A.transpose()\n",
        "  tt = res.transpose()\n",
        "  get_draw(tt,title)"
      ],
      "metadata": {
        "id": "Pw-_nU240IzC"
      },
      "execution_count": null,
      "outputs": []
    },
    {
      "cell_type": "code",
      "source": [
        "def get_turn(alfa,beta,gamma,A, direction,title):\n",
        "  \"\"\"\n",
        "  Выполняет поворот матрицы A на заданный угол:\n",
        "  alfa - вокруг оси х,\n",
        "  beta - вокруг оси y,\n",
        "  gamma - вокруг оси z\n",
        "  direction -Направление вращения: True - по часовой стрелки, \n",
        "  False - против часовой стрелки\n",
        "  \"\"\"\n",
        "  a = np.deg2rad(alfa) # переводим углы из градусов в радианы\n",
        "  b = np.deg2rad(beta)\n",
        "  c = np.deg2rad(gamma)\n",
        "  a1 = np.cos(a)\n",
        "  a2 = np.sin(a)\n",
        "  b1 = np.cos(b)\n",
        "  b2 = np.sin(b)\n",
        "  c1 = np.cos(c)\n",
        "  c2 = np.sin(c)\n",
        "  if direction: # В зависимости от направления вращения, задаем матрицы поворота для каждой из осей\n",
        "    M_alfa = np.array([\n",
        "        [1, 0, 0],\n",
        "        [0, a1, a2],\n",
        "        [0, -a2, a1]\n",
        "        ])\n",
        "    M_beta = np.array([\n",
        "        [b1, 0, -b2],\n",
        "        [0, 1, 0],\n",
        "        [b2, 0, b1]\n",
        "        ]) \n",
        "    M_gamma = np.array([\n",
        "        [c1, c2, 0],\n",
        "        [-c2, c1, 0],\n",
        "        [0, 0, 1]\n",
        "        ]) \n",
        "  else:\n",
        "    M_alfa = np.array([\n",
        "        [1, 0, 0],\n",
        "        [0, a1, -a2],\n",
        "        [0, a2, a1]\n",
        "        ])\n",
        "    M_beta = np.array([\n",
        "        [b1, 0, b2],\n",
        "        [0, 1, 0],\n",
        "        [-b2, 0, b1]\n",
        "        ]) \n",
        "    M_gamma = np.array([\n",
        "        [c1, -c2, 0],\n",
        "        [c2, c1, 0],\n",
        "        [0, 0, 1]\n",
        "        ])\n",
        "     \n",
        "  B = M_alfa @ M_beta @ M_gamma   # считаем матрицу общую поворота  в 3-мерном пр-ве\n",
        " \n",
        "  res = B @ A.transpose()\n",
        "  tt = res.transpose() # результат поворота\n",
        "  get_draw(tt, title) #  визуализация\n"
      ],
      "metadata": {
        "id": "Wf0EaT_iUB5v"
      },
      "execution_count": null,
      "outputs": []
    },
    {
      "cell_type": "code",
      "source": [
        "def get_reflect(A, title):\n",
        "  \"\"\"\n",
        "  Выполняет отражение матрицы А относительно оси y=x\n",
        "  \"\"\"\n",
        "  B = np.array([\n",
        "      [0, 1, 0],\n",
        "      [1, 0, 0],\n",
        "      [0, 0, 1]\n",
        "      \n",
        "  ])\n",
        "  res = B @ A.transpose()\n",
        "  tt = res.transpose() # результат поворота\n",
        "  get_draw(tt, title) #  визуализация"
      ],
      "metadata": {
        "id": "qNTKt__ZnYNq"
      },
      "execution_count": null,
      "outputs": []
    },
    {
      "cell_type": "code",
      "source": [
        "# Исходный рисунок\n",
        "get_draw(init(A), 'Исходный объект')"
      ],
      "metadata": {
        "colab": {
          "base_uri": "https://localhost:8080/",
          "height": 391
        },
        "id": "uQ2_vZoXRiiL",
        "outputId": "8328d00f-06bf-4c0c-c590-6e7ade741e6c"
      },
      "execution_count": null,
      "outputs": [
        {
          "output_type": "execute_result",
          "data": {
            "text/plain": [
              "array([[-100, -100,    1],\n",
              "       [-100,  100,    1],\n",
              "       [ 100,  100,    1],\n",
              "       [   0,    0,    1],\n",
              "       [ 100, -100,    1],\n",
              "       [-100, -100,    1]])"
            ]
          },
          "metadata": {},
          "execution_count": 27
        },
        {
          "output_type": "display_data",
          "data": {
            "text/plain": [
              "<Figure size 432x288 with 1 Axes>"
            ],
            "image/png": "[encoded data removed]"
          },
          "metadata": {
            "needs_background": "light"
          }
        }
      ]
    },
    {
      "cell_type": "code",
      "source": [
        "# уменьшим исходный объект в 2 раза по оси х\n",
        "get_stretch(0.5,1,1,init(A), 'Исходный объект: сжатие в 2 раза по Х')"
      ],
      "metadata": {
        "colab": {
          "base_uri": "https://localhost:8080/",
          "height": 281
        },
        "id": "psG94jKTOb2Q",
        "outputId": "adee6db1-0b90-4045-982c-938c91dc01f3"
      },
      "execution_count": null,
      "outputs": [
        {
          "output_type": "display_data",
          "data": {
            "text/plain": [
              "<Figure size 432x288 with 1 Axes>"
            ],
            "image/png": "[encoded data removed]"
          },
          "metadata": {
            "needs_background": "light"
          }
        }
      ]
    },
    {
      "cell_type": "code",
      "source": [
        "# уменьшим исходный объект в 2 раза по оси y:\n",
        "get_stretch(1,0.5,1,init(A), 'Исходный объект: сжатие в 2 раза по Y')"
      ],
      "metadata": {
        "colab": {
          "base_uri": "https://localhost:8080/",
          "height": 281
        },
        "id": "K-ZR9nk0PgNq",
        "outputId": "2fd1144e-9bdf-4649-d539-cad44f6ffaa6"
      },
      "execution_count": null,
      "outputs": [
        {
          "output_type": "display_data",
          "data": {
            "text/plain": [
              "<Figure size 432x288 with 1 Axes>"
            ],
            "image/png": "[encoded data removed]"
          },
          "metadata": {
            "needs_background": "light"
          }
        }
      ]
    },
    {
      "cell_type": "code",
      "source": [
        "# Повернем исходный объект на 135 градусов по часовой стрелки вокруг оси z\n",
        "get_turn(0,0,135,init(A), True, 'Поворот исходного объекта на 135 градусов по часовой стрелке вокруг оси z')"
      ],
      "metadata": {
        "colab": {
          "base_uri": "https://localhost:8080/",
          "height": 281
        },
        "id": "WLHlklv_Zwls",
        "outputId": "7ac96a37-7b2e-45bf-f50e-3fafb5ba6174"
      },
      "execution_count": null,
      "outputs": [
        {
          "output_type": "display_data",
          "data": {
            "text/plain": [
              "<Figure size 432x288 with 1 Axes>"
            ],
            "image/png": "[encoded data removed]"
          },
          "metadata": {
            "needs_background": "light"
          }
        }
      ]
    },
    {
      "cell_type": "code",
      "source": [
        "# Повернем исходный объект на 135 градусов против часовой стрелки вокруг оси z\n",
        "get_turn(0,0,135,init(A), False, 'Поворот исходного объекта на 135 градусов против часовой стрелки вокруг оси z')"
      ],
      "metadata": {
        "colab": {
          "base_uri": "https://localhost:8080/",
          "height": 281
        },
        "id": "39dLtbk2kWlu",
        "outputId": "3fcdf2e8-00e1-4c2e-89da-7025c5e9b109"
      },
      "execution_count": null,
      "outputs": [
        {
          "output_type": "display_data",
          "data": {
            "text/plain": [
              "<Figure size 432x288 with 1 Axes>"
            ],
            "image/png": "[encoded data removed]"
          },
          "metadata": {
            "needs_background": "light"
          }
        }
      ]
    },
    {
      "cell_type": "code",
      "source": [
        "# выполним отражение исходного объекта относительно прямой y=x \n",
        "get_reflect(init(A),'Отражение матрицы А относительно оси y=x')"
      ],
      "metadata": {
        "colab": {
          "base_uri": "https://localhost:8080/",
          "height": 281
        },
        "id": "t13sP7calDK-",
        "outputId": "fbf5c24e-a235-40f6-9709-85946daf1cf7"
      },
      "execution_count": null,
      "outputs": [
        {
          "output_type": "display_data",
          "data": {
            "text/plain": [
              "<Figure size 432x288 with 1 Axes>"
            ],
            "image/png": "[encoded data removed]"
          },
          "metadata": {
            "needs_background": "light"
          }
        }
      ]
    },
    {
      "cell_type": "markdown",
      "source": [
        "#### Уровень 1:\n",
        "Задание 2\n",
        "Найдите спектральное разложение матрицы:\n",
        "\n",
        "m = np.array([[1, 2],\n",
        "              [2, 3]])\n",
        "print(m)"
      ],
      "metadata": {
        "id": "BbrMC-Lw0JHr"
      }
    },
    {
      "cell_type": "code",
      "source": [
        "m = np.array([[1, 2], [2, 3]])"
      ],
      "metadata": {
        "id": "RGHsPYI9s0Q3"
      },
      "execution_count": null,
      "outputs": []
    },
    {
      "cell_type": "code",
      "source": [
        "# находим собственные значения  и собственные вектора m\n",
        "znach, vektors = np.linalg.eig(m)\n",
        "znach, vektors"
      ],
      "metadata": {
        "colab": {
          "base_uri": "https://localhost:8080/"
        },
        "id": "UXYBHXzxxIMj",
        "outputId": "91959ba2-fca7-465b-c017-c9f3fcc22d18"
      },
      "execution_count": null,
      "outputs": [
        {
          "output_type": "execute_result",
          "data": {
            "text/plain": [
              "(array([-0.23606798,  4.23606798]), array([[-0.85065081, -0.52573111],\n",
              "        [ 0.52573111, -0.85065081]]))"
            ]
          },
          "metadata": {},
          "execution_count": 16
        }
      ]
    },
    {
      "cell_type": "code",
      "source": [
        "D=np.diag(znach) # диагональная матрица с собственным значениями m на главной диагонали\n",
        "D"
      ],
      "metadata": {
        "colab": {
          "base_uri": "https://localhost:8080/"
        },
        "id": "gN4eLFUqyMi5",
        "outputId": "48e63176-764c-47b8-dd61-e57cb29d8fab"
      },
      "execution_count": null,
      "outputs": [
        {
          "output_type": "execute_result",
          "data": {
            "text/plain": [
              "array([[-0.23606798,  0.        ],\n",
              "       [ 0.        ,  4.23606798]])"
            ]
          },
          "metadata": {},
          "execution_count": 22
        }
      ]
    },
    {
      "cell_type": "code",
      "source": [
        "St = vektors # Матрица, строки которой - собственные вектора m\n",
        "St"
      ],
      "metadata": {
        "colab": {
          "base_uri": "https://localhost:8080/"
        },
        "id": "A_4tLZdD3eOi",
        "outputId": "2ac6f6ea-9dab-4b82-87c1-3ec3bd551218"
      },
      "execution_count": null,
      "outputs": [
        {
          "output_type": "execute_result",
          "data": {
            "text/plain": [
              "array([[-0.85065081, -0.52573111],\n",
              "       [ 0.52573111, -0.85065081]])"
            ]
          },
          "metadata": {},
          "execution_count": 23
        }
      ]
    },
    {
      "cell_type": "code",
      "source": [
        "S = np.transpose(vektors) # матрица, столбцы которой - собственные вектора m\n",
        "S"
      ],
      "metadata": {
        "colab": {
          "base_uri": "https://localhost:8080/"
        },
        "id": "p76I36Dt3kyq",
        "outputId": "e53c8df4-6384-4104-af60-f8232d99ba2b"
      },
      "execution_count": null,
      "outputs": [
        {
          "output_type": "execute_result",
          "data": {
            "text/plain": [
              "array([[-0.85065081,  0.52573111],\n",
              "       [-0.52573111, -0.85065081]])"
            ]
          },
          "metadata": {},
          "execution_count": 24
        }
      ]
    },
    {
      "cell_type": "code",
      "source": [
        "np.dot(np.dot(St,D),S) # получаем исходную матрицу m - проверка"
      ],
      "metadata": {
        "colab": {
          "base_uri": "https://localhost:8080/"
        },
        "id": "SDgWNdZb3pDG",
        "outputId": "fde320df-f0f3-4b69-a9cb-ae1fa3fb4879"
      },
      "execution_count": null,
      "outputs": [
        {
          "output_type": "execute_result",
          "data": {
            "text/plain": [
              "array([[1., 2.],\n",
              "       [2., 3.]])"
            ]
          },
          "metadata": {},
          "execution_count": 25
        }
      ]
    },
    {
      "cell_type": "markdown",
      "source": [
        "# Практика - сингулярное разложение произвольной матрицы"
      ],
      "metadata": {
        "id": "M7H5iFf5qXR4"
      }
    },
    {
      "cell_type": "code",
      "source": [
        "# матрица mxn\n",
        "A = np.array([\n",
        "    [1,2,0],\n",
        "    [0,0,5],\n",
        "    [3,-4,2],\n",
        "    [1,6,5],\n",
        "    [0,1,0]\n",
        "]\n",
        ")"
      ],
      "metadata": {
        "id": "UbvLIe-jqehE"
      },
      "execution_count": null,
      "outputs": []
    },
    {
      "cell_type": "code",
      "source": [
        "U,s, W =np.linalg.svd(A)"
      ],
      "metadata": {
        "id": "OeaoG9O8q6Or"
      },
      "execution_count": null,
      "outputs": []
    },
    {
      "cell_type": "code",
      "source": [
        "U # квадратная матрица nxn"
      ],
      "metadata": {
        "colab": {
          "base_uri": "https://localhost:8080/"
        },
        "id": "Gxe-HZl1rXbq",
        "outputId": "36d47d0f-e671-4583-c28f-c7e12d70aa26"
      },
      "execution_count": null,
      "outputs": [
        {
          "output_type": "execute_result",
          "data": {
            "text/plain": [
              "array([[ 0.17056501,  0.15680918, -0.53077508, -0.79905375, -0.16158397],\n",
              "       [ 0.39287016, -0.52933945,  0.6134793 , -0.43375771,  0.03082495],\n",
              "       [-0.14366152, -0.82449256, -0.52379105,  0.14049848,  0.07400343],\n",
              "       [ 0.88843702,  0.06074346, -0.24655277,  0.37755832, -0.06042632],\n",
              "       [ 0.08125046,  0.10831843, -0.08231425, -0.10524851,  0.98173958]])"
            ]
          },
          "metadata": {},
          "execution_count": 5
        }
      ]
    },
    {
      "cell_type": "code",
      "source": [
        "W # квадратная матрица mxm"
      ],
      "metadata": {
        "colab": {
          "base_uri": "https://localhost:8080/"
        },
        "id": "n-7uspGkrjCA",
        "outputId": "8fb054f3-b145-465a-f215-9d6dee7a5b13"
      },
      "execution_count": null,
      "outputs": [
        {
          "output_type": "execute_result",
          "data": {
            "text/plain": [
              "array([[ 0.07116451,  0.71702467,  0.69340553],\n",
              "       [-0.36737824,  0.66514082, -0.65009301],\n",
              "       [-0.92734505, -0.20847855,  0.31075368]])"
            ]
          },
          "metadata": {},
          "execution_count": 6
        }
      ]
    },
    {
      "cell_type": "code",
      "source": [
        "V= W.T # транспонируем W  - нафига? Мы нигде это не используем, а в конце при проверке еще рпавз транспонируем V, т.е возвращаемся к W\n",
        "V"
      ],
      "metadata": {
        "colab": {
          "base_uri": "https://localhost:8080/"
        },
        "id": "LzElYSberoso",
        "outputId": "5d3f8d80-f26e-42d7-c084-97b014e0a728"
      },
      "execution_count": null,
      "outputs": [
        {
          "output_type": "execute_result",
          "data": {
            "text/plain": [
              "array([[ 0.07116451, -0.36737824, -0.92734505],\n",
              "       [ 0.71702467,  0.66514082, -0.20847855],\n",
              "       [ 0.69340553, -0.65009301,  0.31075368]])"
            ]
          },
          "metadata": {},
          "execution_count": 8
        }
      ]
    },
    {
      "cell_type": "code",
      "source": [
        "# При умножении матриц 5х5 и 3х3 посередине должна быть прямоугольная 5х3. Получим ее\n",
        "D = np.zeros_like(A, dtype=float)\n",
        "D"
      ],
      "metadata": {
        "colab": {
          "base_uri": "https://localhost:8080/"
        },
        "id": "xou3NvzlryOe",
        "outputId": "9f94f0a6-291b-43a8-8809-8bc0640fb60f"
      },
      "execution_count": null,
      "outputs": [
        {
          "output_type": "execute_result",
          "data": {
            "text/plain": [
              "array([[0., 0., 0.],\n",
              "       [0., 0., 0.],\n",
              "       [0., 0., 0.],\n",
              "       [0., 0., 0.],\n",
              "       [0., 0., 0.]])"
            ]
          },
          "metadata": {},
          "execution_count": 10
        }
      ]
    },
    {
      "cell_type": "code",
      "source": [
        "# в эту матрицу на главнуюдиагональ нужно поместить числа из s/\n",
        "# Рассмотрим ее срез по диагональным индексам с помощью np.diag_indices(), в которую передаем размер квадратной матрицы m =min(m,n), который в свою очередь найдем с помощью shape\n",
        "D[np.diag_indices(min(A.shape))] = s\n",
        "D"
      ],
      "metadata": {
        "colab": {
          "base_uri": "https://localhost:8080/"
        },
        "id": "T351kg1jszed",
        "outputId": "ed93486e-5b6e-4d36-9e1d-74b1f1b5075a"
      },
      "execution_count": null,
      "outputs": [
        {
          "output_type": "execute_result",
          "data": {
            "text/plain": [
              "array([[8.82486885, 0.        , 0.        ],\n",
              "       [0.        , 6.14060608, 0.        ],\n",
              "       [0.        , 0.        , 2.53271528],\n",
              "       [0.        , 0.        , 0.        ],\n",
              "       [0.        , 0.        , 0.        ]])"
            ]
          },
          "metadata": {},
          "execution_count": 13
        }
      ]
    },
    {
      "cell_type": "code",
      "source": [
        "np.dot(np.dot(U, D), W)"
      ],
      "metadata": {
        "colab": {
          "base_uri": "https://localhost:8080/"
        },
        "id": "3VHFtRuMub30",
        "outputId": "8b1b51ed-97bc-476d-8ef1-e61ecd1339fe"
      },
      "execution_count": null,
      "outputs": [
        {
          "output_type": "execute_result",
          "data": {
            "text/plain": [
              "array([[ 1.00000000e+00,  2.00000000e+00,  1.31018987e-15],\n",
              "       [ 1.93009612e-16, -2.66609409e-15,  5.00000000e+00],\n",
              "       [ 3.00000000e+00, -4.00000000e+00,  2.00000000e+00],\n",
              "       [ 1.00000000e+00,  6.00000000e+00,  5.00000000e+00],\n",
              "       [-5.49534701e-17,  1.00000000e+00, -3.02821608e-17]])"
            ]
          },
          "metadata": {},
          "execution_count": 15
        }
      ]
    },
    {
      "cell_type": "code",
      "source": [
        "np.dot(np.dot(U, D), V.T)\n"
      ],
      "metadata": {
        "colab": {
          "base_uri": "https://localhost:8080/"
        },
        "id": "QGz-Hb9Tvj4l",
        "outputId": "1a20e861-ef68-4370-8b65-7e54303a75b0"
      },
      "execution_count": null,
      "outputs": [
        {
          "output_type": "execute_result",
          "data": {
            "text/plain": [
              "array([[ 1.00000000e+00,  2.00000000e+00,  1.31018987e-15],\n",
              "       [ 1.93009612e-16, -2.66609409e-15,  5.00000000e+00],\n",
              "       [ 3.00000000e+00, -4.00000000e+00,  2.00000000e+00],\n",
              "       [ 1.00000000e+00,  6.00000000e+00,  5.00000000e+00],\n",
              "       [-5.49534701e-17,  1.00000000e+00, -3.02821608e-17]])"
            ]
          },
          "metadata": {},
          "execution_count": 16
        }
      ]
    },
    {
      "cell_type": "code",
      "source": [
        "np.matmul(U,D)@W # тот же результат"
      ],
      "metadata": {
        "colab": {
          "base_uri": "https://localhost:8080/"
        },
        "id": "qz3XlcVOwAwq",
        "outputId": "8a155191-997c-490c-bf69-fe6e182e8b96"
      },
      "execution_count": null,
      "outputs": [
        {
          "output_type": "execute_result",
          "data": {
            "text/plain": [
              "array([[ 1.00000000e+00,  2.00000000e+00,  1.31018987e-15],\n",
              "       [ 1.93009612e-16, -2.66609409e-15,  5.00000000e+00],\n",
              "       [ 3.00000000e+00, -4.00000000e+00,  2.00000000e+00],\n",
              "       [ 1.00000000e+00,  6.00000000e+00,  5.00000000e+00],\n",
              "       [-5.49534701e-17,  1.00000000e+00, -3.02821608e-17]])"
            ]
          },
          "metadata": {},
          "execution_count": 19
        }
      ]
    },
    {
      "cell_type": "code",
      "source": [
        "U@D@W # тот же результат"
      ],
      "metadata": {
        "colab": {
          "base_uri": "https://localhost:8080/"
        },
        "id": "IN0lzni9wT9i",
        "outputId": "30339afc-afc0-4316-eb5e-b3f912d4d2e3"
      },
      "execution_count": null,
      "outputs": [
        {
          "output_type": "execute_result",
          "data": {
            "text/plain": [
              "array([[ 1.00000000e+00,  2.00000000e+00,  1.31018987e-15],\n",
              "       [ 1.93009612e-16, -2.66609409e-15,  5.00000000e+00],\n",
              "       [ 3.00000000e+00, -4.00000000e+00,  2.00000000e+00],\n",
              "       [ 1.00000000e+00,  6.00000000e+00,  5.00000000e+00],\n",
              "       [-5.49534701e-17,  1.00000000e+00, -3.02821608e-17]])"
            ]
          },
          "metadata": {},
          "execution_count": 20
        }
      ]
    },
    {
      "cell_type": "markdown",
      "source": [
        "# Практика Анализ главных компонент"
      ],
      "metadata": {
        "id": "1iT97093MHUn"
      }
    },
    {
      "cell_type": "code",
      "source": [
        "import numpy as np\n",
        "from sklearn.decomposition import PCA\n",
        "X = np.array([[-1,-1], [-2,-1], [-3,-2], [1,1], [2,1],[3,2]])\n",
        "pca=PCA(n_components=2)\n",
        "pca.fit(X)\n",
        "print(pca.explained_variance_ratio_)# видим вариации за счет 1 и 2 компонент"
      ],
      "metadata": {
        "colab": {
          "base_uri": "https://localhost:8080/"
        },
        "id": "vtkj6qJpMGSM",
        "outputId": "02fa6bb0-e014-431b-afb6-c810d24cdca1"
      },
      "execution_count": 1,
      "outputs": [
        {
          "output_type": "stream",
          "name": "stdout",
          "text": [
            "[0.99244289 0.00755711]\n"
          ]
        }
      ]
    },
    {
      "cell_type": "code",
      "source": [
        "print(pca.singular_values_) #  выводит единичные значения к компонентам, иначе говоря, нормы значений переменных для компонент."
      ],
      "metadata": {
        "colab": {
          "base_uri": "https://localhost:8080/"
        },
        "id": "AeAEGyk_MmYC",
        "outputId": "2afbdb23-2751-4059-dae7-9094ca3b950e"
      },
      "execution_count": 2,
      "outputs": [
        {
          "output_type": "stream",
          "name": "stdout",
          "text": [
            "[6.30061232 0.54980396]\n"
          ]
        }
      ]
    }
  ]
}