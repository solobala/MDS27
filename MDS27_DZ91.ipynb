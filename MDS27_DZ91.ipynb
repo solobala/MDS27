{
  "nbformat": 4,
  "nbformat_minor": 0,
  "metadata": {
    "colab": {
      "provenance": [],
      "authorship_tag": "ABX9TyN1+miMw0RxVlNL1eglSNj4",
      "include_colab_link": true
    },
    "kernelspec": {
      "name": "python3",
      "display_name": "Python 3"
    },
    "language_info": {
      "name": "python"
    }
  },
  "cells": [
    {
      "cell_type": "markdown",
      "metadata": {
        "id": "view-in-github",
        "colab_type": "text"
      },
      "source": [
        "<a href=\"https://colab.research.google.com/github/solobala/MDS27/blob/main/MDS27_DZ91.ipynb\" target=\"_parent\"><img src=\"https://colab.research.google.com/assets/colab-badge.svg\" alt=\"Open In Colab\"/></a>"
      ]
    },
    {
      "cell_type": "markdown",
      "source": [
        "Домашнее задание \"Центральная предельная теорема и статистика\"."
      ],
      "metadata": {
        "id": "VlA5FKPVhlFs"
      }
    },
    {
      "cell_type": "markdown",
      "source": [
        "### Задание.\n",
        "В этом задании нужно убедиться, что ЦПТ действительно работает.\n",
        "\n",
        "Создайте случайную величину из любого выбранного вами распределения, для разных значений n сгенерируйте 1000 выборок размера n. Постройте гистрограммы средних этих выборок и сделайте выводы"
      ],
      "metadata": {
        "id": "RVLKc3M5hmfV"
      }
    },
    {
      "cell_type": "code",
      "source": [
        "import pandas as pd\n",
        "import numpy as np\n",
        "import matplotlib.pyplot as plt\n",
        "import scipy.stats as sts\n",
        "%matplotlib inline"
      ],
      "metadata": {
        "id": "cz7rLW7V33P-"
      },
      "execution_count": null,
      "outputs": []
    },
    {
      "cell_type": "code",
      "source": [
        "# 'Непрерывные вероятностные распределения в scipy.stats\n",
        "dist_cont = [d for d in dir(sts) if  isinstance(getattr(sts,d), sts.rv_continuous) ]\n",
        "print(f'Непрерывные вероятностные распределения в scipy.stats, всего: {len(dist_cont)}')\n",
        "print(dist_cont)\n"
      ],
      "metadata": {
        "colab": {
          "base_uri": "https://localhost:8080/"
        },
        "id": "AWvz6oNl-sUb",
        "outputId": "8cd6396b-504f-4d61-fcea-42402f7c19fc"
      },
      "execution_count": null,
      "outputs": [
        {
          "output_type": "stream",
          "name": "stdout",
          "text": [
            "Непрерывные вероятностные распределения в scipy.stats, всего: 104\n",
            "['alpha', 'anglit', 'arcsine', 'argus', 'beta', 'betaprime', 'bradford', 'burr', 'burr12', 'cauchy', 'chi', 'chi2', 'cosine', 'crystalball', 'dgamma', 'dweibull', 'erlang', 'expon', 'exponnorm', 'exponpow', 'exponweib', 'f', 'fatiguelife', 'fisk', 'foldcauchy', 'foldnorm', 'gamma', 'gausshyper', 'genexpon', 'genextreme', 'gengamma', 'genhalflogistic', 'genhyperbolic', 'geninvgauss', 'genlogistic', 'gennorm', 'genpareto', 'gilbrat', 'gompertz', 'gumbel_l', 'gumbel_r', 'halfcauchy', 'halfgennorm', 'halflogistic', 'halfnorm', 'hypsecant', 'invgamma', 'invgauss', 'invweibull', 'johnsonsb', 'johnsonsu', 'kappa3', 'kappa4', 'ksone', 'kstwo', 'kstwobign', 'laplace', 'laplace_asymmetric', 'levy', 'levy_l', 'levy_stable', 'loggamma', 'logistic', 'loglaplace', 'lognorm', 'loguniform', 'lomax', 'maxwell', 'mielke', 'moyal', 'nakagami', 'ncf', 'nct', 'ncx2', 'norm', 'norminvgauss', 'pareto', 'pearson3', 'powerlaw', 'powerlognorm', 'powernorm', 'rayleigh', 'rdist', 'recipinvgauss', 'reciprocal', 'rice', 'semicircular', 'skewcauchy', 'skewnorm', 'studentized_range', 't', 'trapezoid', 'trapz', 'triang', 'truncexpon', 'truncnorm', 'tukeylambda', 'uniform', 'vonmises', 'vonmises_line', 'wald', 'weibull_max', 'weibull_min', 'wrapcauchy']\n"
          ]
        }
      ]
    },
    {
      "cell_type": "code",
      "source": [
        "# 'Дискретные вероятностные распределения в scipy.stats\n",
        "dist_dis = [d for d in dir(sts) if  isinstance(getattr(sts,d), sts.rv_discrete) ]\n",
        "print(f'Дискретные вероятностные распределения в scipy.stats, всего: {len(dist_dis)}')\n",
        "print(dist_dis)"
      ],
      "metadata": {
        "colab": {
          "base_uri": "https://localhost:8080/"
        },
        "id": "qlWc_ujeCY8g",
        "outputId": "f8af83f2-32e3-4a58-ab9f-71f4925d3b6f"
      },
      "execution_count": null,
      "outputs": [
        {
          "output_type": "stream",
          "name": "stdout",
          "text": [
            "Дискретные вероятностные распределения в scipy.stats, всего: 19\n",
            "['bernoulli', 'betabinom', 'binom', 'boltzmann', 'dlaplace', 'geom', 'hypergeom', 'logser', 'nbinom', 'nchypergeom_fisher', 'nchypergeom_wallenius', 'nhypergeom', 'planck', 'poisson', 'randint', 'skellam', 'yulesimon', 'zipf', 'zipfian']\n"
          ]
        }
      ]
    },
    {
      "cell_type": "code",
      "source": [
        "# Название непрерывнфх и дискретных распределений\n",
        "names = [d for d in dir(sts) if isinstance(getattr(sts,d), sts.rv_discrete) or isinstance(getattr(sts,d), sts.rv_continuous)]\n",
        "for i, name in enumerate(names):\n",
        "  print(name, end =', ')\n",
        "  if i % 5 ==0:\n",
        "    print()"
      ],
      "metadata": {
        "id": "ujwJGqlJLd1-"
      },
      "execution_count": null,
      "outputs": []
    },
    {
      "cell_type": "code",
      "execution_count": null,
      "metadata": {
        "id": "Re0ADeoBhc0y"
      },
      "outputs": [],
      "source": [
        "func = [sts.alpha, \n",
        "sts.anglit, sts.arcsine, sts.argus, sts.bernoulli, sts.beta, \n",
        "sts.betabinom, sts.betaprime, sts.binom, sts.boltzmann, sts.bradford, \n",
        "sts.burr, sts.burr12, sts.cauchy, sts.chi, sts.chi2, \n",
        "sts.cosine, sts.crystalball, sts.dgamma, sts.dlaplace, sts.dweibull, \n",
        "sts.erlang, sts.expon, sts.exponnorm, sts.exponpow, sts.exponweib, \n",
        "sts.f, sts.fatiguelife, sts.fisk, sts.foldcauchy, sts.foldnorm, \n",
        "sts.gamma, sts.gausshyper, sts.genexpon, sts.genextreme, sts.gengamma, \n",
        "sts.genhalflogistic, sts.genhyperbolic, sts.geninvgauss, sts.genlogistic, sts.gennorm, \n",
        "sts.genpareto, sts.geom, sts.gilbrat, sts.gompertz, sts.gumbel_l, \n",
        "sts.gumbel_r, sts.halfcauchy, sts.halfgennorm, sts.halflogistic, sts.halfnorm, \n",
        "sts.hypergeom, sts.hypsecant, sts.invgamma, sts.invgauss, sts.invweibull, \n",
        "sts.johnsonsb, sts.johnsonsu, sts.kappa3, sts.kappa4, sts.ksone, \n",
        "sts.kstwo, sts.kstwobign, sts.laplace, sts.laplace_asymmetric, sts.levy, \n",
        "sts.levy_l, sts.levy_stable, sts.loggamma, sts.logistic, sts.loglaplace, \n",
        "sts.lognorm, sts.logser, sts.loguniform, sts.lomax, sts.maxwell, \n",
        "sts.mielke, sts.moyal, sts.nakagami, sts.nbinom, sts.ncf, \n",
        "sts.nchypergeom_fisher, sts.nchypergeom_wallenius, sts.nct, sts.ncx2, sts.nhypergeom, \n",
        "sts.norm, sts.norminvgauss, sts.pareto, sts.pearson3, sts.planck, \n",
        "sts.poisson, sts.powerlaw, sts.powerlognorm, sts.powernorm, sts.randint, \n",
        "sts.rayleigh, sts.rdist, sts.recipinvgauss, sts.reciprocal, sts.rice, \n",
        "sts.semicircular, sts.skellam, sts.skewcauchy, \n",
        "sts.skewnorm, sts.studentized_range, \n",
        "sts.t, sts.trapezoid, sts.trapz, sts.triang, sts.truncexpon, \n",
        "sts.truncnorm, sts.tukeylambda,sts.uniform, \n",
        "sts.vonmises, sts.vonmises_line, \n",
        "sts.wald, sts.weibull_max, sts.weibull_min, sts.wrapcauchy, sts.yulesimon, \n",
        "sts.zipf, sts.zipfian]\n"
      ]
    },
    {
      "cell_type": "code",
      "source": [
        "cont_func = [d for d in func if d.name in dist_cont and d.numargs!=0]\n",
        "dis_func = [d for d in func if d.name in dist_dis]"
      ],
      "metadata": {
        "id": "7nvCPYacRBre"
      },
      "execution_count": null,
      "outputs": []
    },
    {
      "cell_type": "code",
      "source": [
        "len(cont_func)\n"
      ],
      "metadata": {
        "colab": {
          "base_uri": "https://localhost:8080/"
        },
        "id": "Xl8nILIHSst4",
        "outputId": "b0614d32-7625-497e-c330-aaa2ff49ea67"
      },
      "execution_count": null,
      "outputs": [
        {
          "output_type": "execute_result",
          "data": {
            "text/plain": [
              "80"
            ]
          },
          "metadata": {},
          "execution_count": 85
        }
      ]
    },
    {
      "cell_type": "code",
      "source": [
        "# Строим исходное распределение\n",
        "a = 1.99\n",
        "rv = sts.gamma(loc=0, scale=1, a=a)\n",
        "sample = rv.rvs(size=1000)\n",
        "x = np.linspace(0,2,100)\n",
        "pdf = rv.pdf(x)\n",
        "plt.hist(sample, density=True, bins=30, label='Исходная гистограмма')\n",
        "plt.plot(x, pdf, label='theoretical pdf', alpha=0.5)\n",
        "plt.legend()\n",
        "plt.ylabel('fraction of samples')\n",
        "plt.xlabel('')\n",
        "plt.show()"
      ],
      "metadata": {
        "colab": {
          "base_uri": "https://localhost:8080/",
          "height": 265
        },
        "id": "IiHBvqwagIQR",
        "outputId": "51dd82c1-a32d-4507-d549-75a725b308f5"
      },
      "execution_count": 97,
      "outputs": [
        {
          "output_type": "display_data",
          "data": {
            "text/plain": [
              "<Figure size 432x288 with 1 Axes>"
            ],
            "image/png": "[encoded data removed]"
          },
          "metadata": {
            "needs_background": "light"
          }
        }
      ]
    },
    {
      "cell_type": "code",
      "source": [
        "fig = plt.figure(figsize=[25,25])\n",
        "colors =['red', 'blue', 'green', 'orange', 'violet']\n",
        "samples_count = 1000  # Количество повторов генерации\n",
        "bins = 10\n",
        "alpha = 0.3\n",
        "a = 1.99\n",
        "rv = sts.gamma(loc=0, scale=1, a=a)\n",
        "sample = rv.rvs(size=1000)\n",
        "n1 = [2,20, 50,100, 500]                # Размеры выборок \n",
        "for i in range(1,6):\n",
        "  for n in n1:\n",
        "    a1 = np.array([])     # Массивы для сохранения средних по выборкам\n",
        "    label_1 = 'sample of ' + str(n)   # Подписи для графиков\n",
        "    for number in range(samples_count): \n",
        "        sample1 = rv.rvs(size=n)               # На каждом цикле генерируем выборки указанных размеров\n",
        "        a1 = np.append(a1, sample1.mean())      # Считаем среднее по каждой выборке и добавляем в массив средних\n",
        "   \n",
        "  ax = fig.add_subplot(5, 5, i)\n",
        "  ax.set_title(f'  Среднее выборки = {a1.mean()}')\n",
        "  plt.hist(a1, density=True, bins=10, label=label_1, color=colors[i-1])         # Строим графики\n",
        "  plt.legend()\n",
        "  plt.ylabel('') \n",
        "  plt.xlabel('')\n",
        "\n",
        " "
      ],
      "metadata": {
        "id": "bnTOt07VhvhN",
        "colab": {
          "base_uri": "https://localhost:8080/",
          "height": 298
        },
        "outputId": "2a879a6b-e660-440a-f952-0d7857a00e15"
      },
      "execution_count": 96,
      "outputs": [
        {
          "output_type": "display_data",
          "data": {
            "text/plain": [
              "<Figure size 1800x1800 with 5 Axes>"
            ],
            "image/png": "[encoded data removed]"
          },
          "metadata": {
            "needs_background": "light"
          }
        }
      ]
    },
    {
      "cell_type": "code",
      "source": [],
      "metadata": {
        "id": "FgTTVIs5hywb"
      },
      "execution_count": null,
      "outputs": []
    },
    {
      "cell_type": "code",
      "source": [],
      "metadata": {
        "id": "vTmx2-sYh3oB"
      },
      "execution_count": null,
      "outputs": []
    },
    {
      "cell_type": "markdown",
      "source": [
        "Вывод: Закон больших чисел и ЦПТ работают. С увеличением размера выборки при сохранении кол-ва повторов генерации выборок распределение выборочных средних все ближе к нормальному, хотя исходное распределение случайных величин - гамма - нормальным не было "
      ],
      "metadata": {
        "id": "wUvDVf3zvLHF"
      }
    }
  ]
}