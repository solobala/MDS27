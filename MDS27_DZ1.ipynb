{
  "nbformat": 4,
  "nbformat_minor": 0,
  "metadata": {
    "colab": {
      "provenance": [],
      "authorship_tag": "ABX9TyO+sd078T1aieN5fQ9at7dz",
      "include_colab_link": true
    },
    "kernelspec": {
      "name": "python3",
      "display_name": "Python 3"
    },
    "language_info": {
      "name": "python"
    }
  },
  "cells": [
    {
      "cell_type": "markdown",
      "metadata": {
        "id": "view-in-github",
        "colab_type": "text"
      },
      "source": [
        "<a href=\"https://colab.research.google.com/github/solobala/MDS27/blob/main/MDS27_DZ1.ipynb\" target=\"_parent\"><img src=\"https://colab.research.google.com/assets/colab-badge.svg\" alt=\"Open In Colab\"/></a>"
      ]
    },
    {
      "cell_type": "markdown",
      "source": [
        "Домашнее задание \"Основные математические понятия\"."
      ],
      "metadata": {
        "id": "sxutIKlMRIDg"
      }
    },
    {
      "cell_type": "markdown",
      "source": [
        "### Уровень 0\n",
        "Уровень 0:\n",
        "Представим фильмы в виде бинарных векторов (numpy array) используя следующие признаки:\n",
        "\n",
        "[Комедия, Боевик, Исторический, Бред Питт, Бенедикт Камбербэтч, Квентин Тарантино]\n",
        "\n",
        "Игра в имитацию\n",
        "\n",
        "Ярость\n",
        "\n",
        "12 лет рабства\n",
        "\n",
        "Однажды в Голливуде\n",
        "\n",
        "film_1 = np.array([0,0,0,0,1,0])      # Игра в имитацию\n",
        "\n",
        "film_2 = np.array([0,1,0,1,0,0])      # Ярость\n",
        "\n",
        "film_3 = np.array([0,0,1,1,1,0])      # 12 лет рабства\n",
        "\n",
        "film_4 = np.array([1,0,0,1,0,1])      # Однажды в Голливуде"
      ],
      "metadata": {
        "id": "Ky9IeonwRKAC"
      }
    },
    {
      "cell_type": "code",
      "source": [
        "import numpy as np"
      ],
      "metadata": {
        "id": "Nml-HlA0RqI5"
      },
      "execution_count": null,
      "outputs": []
    },
    {
      "cell_type": "code",
      "execution_count": null,
      "metadata": {
        "id": "8c4f8lTuRADx"
      },
      "outputs": [],
      "source": [
        "film_1 = np.array([0,0,0,0,1,0]) # Игра в имитацию\n",
        "\n",
        "film_2 = np.array([0,1,0,1,0,0]) # Ярость\n",
        "\n",
        "film_3 = np.array([0,0,1,1,1,0]) # 12 лет рабства\n",
        "\n",
        "film_4 = np.array([1,0,0,1,0,1]) # Однажды в Голливуде"
      ]
    },
    {
      "cell_type": "markdown",
      "source": [
        "#### Задание 1\n",
        "Найти угол между векторами-фильмами \"Ярость\" и \"12 лет рабства\". Результатом будет являться косинусная мера, которую можно использовать для определения похожести векторов."
      ],
      "metadata": {
        "id": "37HX0hS4Rzyh"
      }
    },
    {
      "cell_type": "code",
      "source": [
        "print(f'Косинусная мера между векторами-фильмами \"Ярость\" и \"12 лет рабства\": {np.dot(film_2, film_3)/(np.linalg.norm(film_2) * np.linalg.norm(film_3))}')"
      ],
      "metadata": {
        "colab": {
          "base_uri": "https://localhost:8080/"
        },
        "id": "3FKJFA7DRue1",
        "outputId": "17ce5ac2-4558-49ae-94a7-e20e5d3d5969"
      },
      "execution_count": null,
      "outputs": [
        {
          "output_type": "stream",
          "name": "stdout",
          "text": [
            "Косинусная мера между векторами-фильмами \"Ярость\" и \"12 лет рабства\": 0.40824829046386296\n"
          ]
        }
      ]
    },
    {
      "cell_type": "markdown",
      "source": [
        "### Уровень 1:\n",
        "Задание 2\n",
        "Вычислить с помощью Python значение первой производной для функции 8x*(x+3)^2\n",
        " в точке x=1"
      ],
      "metadata": {
        "id": "ObOc_jsDTiWF"
      }
    },
    {
      "cell_type": "code",
      "source": [
        "x=1 # Расчет аналитическим способом - для проверки\n",
        "print(f'Первая производная ф-ии в точке х=1 {8*(x+3)**2 + 8*x*2*(x+3)}')"
      ],
      "metadata": {
        "colab": {
          "base_uri": "https://localhost:8080/"
        },
        "id": "q4-oi3dQTxwX",
        "outputId": "0c0e5ca9-bab6-4c71-91de-3b4f0d033b63"
      },
      "execution_count": null,
      "outputs": [
        {
          "output_type": "stream",
          "name": "stdout",
          "text": [
            "Первая производная ф-ии в точке х=1 192\n"
          ]
        }
      ]
    },
    {
      "cell_type": "code",
      "source": [
        "import sympy as sym\n",
        "x = sym.Symbol('x')\n",
        "8*x*(x+3)**2  # педставляем ф-ю в виде комбинации объектов Symbol"
      ],
      "metadata": {
        "colab": {
          "base_uri": "https://localhost:8080/",
          "height": 40
        },
        "id": "g4RDQuToF5cu",
        "outputId": "bf7448ff-e644-4e19-e643-8e61f0aeaaaa"
      },
      "execution_count": null,
      "outputs": [
        {
          "output_type": "execute_result",
          "data": {
            "text/plain": [
              "8*x*(x + 3)**2"
            ],
            "text/latex": "$\\displaystyle 8 x \\left(x + 3\\right)^{2}$"
          },
          "metadata": {},
          "execution_count": 10
        }
      ]
    },
    {
      "cell_type": "code",
      "source": [
        "res = sym.diff(8 * x * (x + 3) **2, x)\n",
        "res"
      ],
      "metadata": {
        "colab": {
          "base_uri": "https://localhost:8080/",
          "height": 40
        },
        "id": "GRy1P6XeGfGL",
        "outputId": "e1708075-758a-43c2-c5f4-52d84ca7b878"
      },
      "execution_count": null,
      "outputs": [
        {
          "output_type": "execute_result",
          "data": {
            "text/plain": [
              "8*x*(2*x + 6) + 8*(x + 3)**2"
            ],
            "text/latex": "$\\displaystyle 8 x \\left(2 x + 6\\right) + 8 \\left(x + 3\\right)^{2}$"
          },
          "metadata": {},
          "execution_count": 11
        }
      ]
    },
    {
      "cell_type": "code",
      "source": [
        "res.subs(x,1)"
      ],
      "metadata": {
        "colab": {
          "base_uri": "https://localhost:8080/",
          "height": 37
        },
        "id": "O7l72DU0G3Xa",
        "outputId": "210a6d33-d192-454e-d404-f1fc99a846b7"
      },
      "execution_count": null,
      "outputs": [
        {
          "output_type": "execute_result",
          "data": {
            "text/plain": [
              "192"
            ],
            "text/latex": "$\\displaystyle 192$"
          },
          "metadata": {},
          "execution_count": 12
        }
      ]
    },
    {
      "cell_type": "markdown",
      "source": [
        "### Задание 3\n",
        "Объединить векторы фильмов в матрицу, где каждый вектор является строкой матрицы. Умножьте вектор [1,2,3,4] на полученную матрицу"
      ],
      "metadata": {
        "id": "tKRb0nNrTyP5"
      }
    },
    {
      "cell_type": "code",
      "source": [
        "A1=np.array([film_1, film_2, film_3, film_4])"
      ],
      "metadata": {
        "id": "EZb2oEKIT5PZ"
      },
      "execution_count": null,
      "outputs": []
    },
    {
      "cell_type": "code",
      "source": [
        "B1 = np.array([1,2,3,4])"
      ],
      "metadata": {
        "id": "momiAzpfUP-m"
      },
      "execution_count": null,
      "outputs": []
    },
    {
      "cell_type": "code",
      "source": [
        "np.matmul(B1, A1)"
      ],
      "metadata": {
        "colab": {
          "base_uri": "https://localhost:8080/"
        },
        "id": "Es0YPOBXUXId",
        "outputId": "f10e7654-ee68-47bf-fb7f-bcd9e299994d"
      },
      "execution_count": null,
      "outputs": [
        {
          "output_type": "execute_result",
          "data": {
            "text/plain": [
              "array([4, 2, 3, 9, 4, 4])"
            ]
          },
          "metadata": {},
          "execution_count": 15
        }
      ]
    }
  ]
}