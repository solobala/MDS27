{
  "nbformat": 4,
  "nbformat_minor": 0,
  "metadata": {
    "colab": {
      "provenance": [],
      "authorship_tag": "ABX9TyNdFbmqTaMHd1zG/KVkwyco",
      "include_colab_link": true
    },
    "kernelspec": {
      "name": "python3",
      "display_name": "Python 3"
    },
    "language_info": {
      "name": "python"
    }
  },
  "cells": [
    {
      "cell_type": "markdown",
      "metadata": {
        "id": "view-in-github",
        "colab_type": "text"
      },
      "source": [
        "<a href=\"https://colab.research.google.com/github/solobala/MDS27/blob/main/MDS27_DZ4.ipynb\" target=\"_parent\"><img src=\"https://colab.research.google.com/assets/colab-badge.svg\" alt=\"Open In Colab\"/></a>"
      ]
    },
    {
      "cell_type": "markdown",
      "source": [
        "Домашнее задание \"Функции одной переменной\""
      ],
      "metadata": {
        "id": "NTyZBEZQBXXl"
      }
    },
    {
      "cell_type": "markdown",
      "source": [
        "### Задание 1\n",
        "Посчитайте значение первой и второй производной функции:\n",
        "\n",
        "![image.png](data:image/png;base64,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)\n",
        "В точке x = 1."
      ],
      "metadata": {
        "id": "cnma8dqpBY70"
      }
    },
    {
      "cell_type": "code",
      "execution_count": null,
      "metadata": {
        "id": "DtoPNIEjBSo0"
      },
      "outputs": [],
      "source": [
        "import numpy as np\n",
        "import sympy as sym\n",
        "from sympy import *\n",
        "import matplotlib.pyplot as plt"
      ]
    },
    {
      "cell_type": "code",
      "source": [
        "# Запишем ф-ю в аналитическом виде и превратим ее в объект\n",
        "x = sym.Symbol('x')\n",
        "str_expression = 'x**5 + 4 * sin(2 * x) + cos(3 * x + 3)'\n",
        "expression = sym.sympify(str_expression)\n",
        "expression"
      ],
      "metadata": {
        "colab": {
          "base_uri": "https://localhost:8080/",
          "height": 39
        },
        "id": "2DB5YTHABuc_",
        "outputId": "2184bab2-02fc-4cc5-8e45-c74668470908"
      },
      "execution_count": null,
      "outputs": [
        {
          "output_type": "execute_result",
          "data": {
            "text/plain": [
              "x**5 + 4*sin(2*x) + cos(3*x + 3)"
            ],
            "text/latex": "$\\displaystyle x^{5} + 4 \\sin{\\left(2 x \\right)} + \\cos{\\left(3 x + 3 \\right)}$"
          },
          "metadata": {},
          "execution_count": 16
        }
      ]
    },
    {
      "cell_type": "code",
      "source": [
        "# Выражение для 1 производной ф-ии в аналитическом виде\n",
        "drv1 = sym.diff(expression, x)\n",
        "drv1"
      ],
      "metadata": {
        "colab": {
          "base_uri": "https://localhost:8080/",
          "height": 39
        },
        "id": "eOJ0vJ-_CIt-",
        "outputId": "413bb5be-0044-4fe5-b84c-754b2e137225"
      },
      "execution_count": null,
      "outputs": [
        {
          "output_type": "execute_result",
          "data": {
            "text/plain": [
              "5*x**4 - 3*sin(3*x + 3) + 8*cos(2*x)"
            ],
            "text/latex": "$\\displaystyle 5 x^{4} - 3 \\sin{\\left(3 x + 3 \\right)} + 8 \\cos{\\left(2 x \\right)}$"
          },
          "metadata": {},
          "execution_count": 17
        }
      ]
    },
    {
      "cell_type": "code",
      "source": [
        "# 1 производная в т. х=1 в аналитическом виде\n",
        "drv1.subs(x,1)"
      ],
      "metadata": {
        "colab": {
          "base_uri": "https://localhost:8080/",
          "height": 37
        },
        "id": "n3kgXndHCrFQ",
        "outputId": "159ed1c4-0241-42bf-c26f-a24d09a8a5a8"
      },
      "execution_count": null,
      "outputs": [
        {
          "output_type": "execute_result",
          "data": {
            "text/plain": [
              "8*cos(2) - 3*sin(6) + 5"
            ],
            "text/latex": "$\\displaystyle 8 \\cos{\\left(2 \\right)} - 3 \\sin{\\left(6 \\right)} + 5$"
          },
          "metadata": {},
          "execution_count": 18
        }
      ]
    },
    {
      "cell_type": "code",
      "source": [
        "print(f' Значение 1-й производной ф-ии {expression} в точке x=1: {drv1.evalf(subs={x:1})}') "
      ],
      "metadata": {
        "colab": {
          "base_uri": "https://localhost:8080/"
        },
        "id": "BvMnVHEID77M",
        "outputId": "fa80f9c4-e0d4-46ea-f196-168176a7d2f6"
      },
      "execution_count": null,
      "outputs": [
        {
          "output_type": "stream",
          "name": "stdout",
          "text": [
            " Значение 1-й производной ф-ии x**5 + 4*sin(2*x) + cos(3*x + 3) в точке x=1: 2.50907180221964\n"
          ]
        }
      ]
    },
    {
      "cell_type": "code",
      "source": [
        "# Выражение для 2 производной в аналитическом виде\n",
        "drv2 = sym.diff(drv1, x)\n",
        "drv2"
      ],
      "metadata": {
        "colab": {
          "base_uri": "https://localhost:8080/",
          "height": 39
        },
        "id": "F1yIjaogCf-F",
        "outputId": "64edc4e2-d3c8-4730-eae2-05aee5517b1c"
      },
      "execution_count": null,
      "outputs": [
        {
          "output_type": "execute_result",
          "data": {
            "text/plain": [
              "20*x**3 - 16*sin(2*x) - 9*cos(3*x + 3)"
            ],
            "text/latex": "$\\displaystyle 20 x^{3} - 16 \\sin{\\left(2 x \\right)} - 9 \\cos{\\left(3 x + 3 \\right)}$"
          },
          "metadata": {},
          "execution_count": 20
        }
      ]
    },
    {
      "cell_type": "code",
      "source": [
        "# Можно еще и так\n",
        "drv2 = sym.diff(expression,x,2)\n",
        "drv2"
      ],
      "metadata": {
        "colab": {
          "base_uri": "https://localhost:8080/",
          "height": 39
        },
        "id": "p3K0SMNrdhzb",
        "outputId": "828fd18a-023f-4c67-eedf-278b6d1bdd67"
      },
      "execution_count": null,
      "outputs": [
        {
          "output_type": "execute_result",
          "data": {
            "text/plain": [
              "20*x**3 - 16*sin(2*x) - 9*cos(3*(x + 1))"
            ],
            "text/latex": "$\\displaystyle 20 x^{3} - 16 \\sin{\\left(2 x \\right)} - 9 \\cos{\\left(3 \\left(x + 1\\right) \\right)}$"
          },
          "metadata": {},
          "execution_count": 25
        }
      ]
    },
    {
      "cell_type": "code",
      "source": [
        "#  2 производная в т. х=1 в аналитическом виде\n",
        "drv2.subs(x,1)"
      ],
      "metadata": {
        "colab": {
          "base_uri": "https://localhost:8080/",
          "height": 37
        },
        "id": "D0TRS2TOC4iP",
        "outputId": "617edca0-2799-4fae-c349-5d3419eedfbc"
      },
      "execution_count": null,
      "outputs": [
        {
          "output_type": "execute_result",
          "data": {
            "text/plain": [
              "-16*sin(2) - 9*cos(6) + 20"
            ],
            "text/latex": "$\\displaystyle - 16 \\sin{\\left(2 \\right)} - 9 \\cos{\\left(6 \\right)} + 20$"
          },
          "metadata": {},
          "execution_count": 21
        }
      ]
    },
    {
      "cell_type": "code",
      "source": [
        "print(f' Значение 2-й производной ф-ии {expression} в точке x=1: {drv2.evalf(subs={x:1})}')"
      ],
      "metadata": {
        "colab": {
          "base_uri": "https://localhost:8080/"
        },
        "id": "htKl6dCqEyUh",
        "outputId": "1bad2ef0-25d0-41e1-ed1a-3ee05cabe16e"
      },
      "execution_count": null,
      "outputs": [
        {
          "output_type": "stream",
          "name": "stdout",
          "text": [
            " Значение 2-й производной ф-ии x**5 + 4*sin(2*x) + cos(3*x + 3) в точке x=1: -3.19029140906420\n"
          ]
        }
      ]
    },
    {
      "cell_type": "markdown",
      "source": [
        "### Уровень 1:\n",
        "Задание 2.\n",
        "Постройте график первой и второй производной функции:\n",
        "\n",
        "![image.png](data:image/png;base64,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)\n",
        "\n",
        "На отрезке [-5; 5]."
      ],
      "metadata": {
        "id": "Bcs9mqPLFkdt"
      }
    },
    {
      "cell_type": "code",
      "source": [
        "a=np.arange(-5,5)\n",
        "f1 = lambdify(x, drv1, \"numpy\")\n",
        "f2 = lambdify(x, drv2, \"numpy\")\n",
        "plt.figure(figsize=(10, 5.4))\n",
        "plt.plot(a, f1(a), label=\"f'\")  \n",
        "plt.plot(a, f2(a), label=\"f''\")  \n",
        "\n",
        "plt.xlabel('x')\n",
        "\n",
        "plt.ylabel('y2')\n",
        "plt.title(f'график 1 и 2 производных ф-ии {expression}')\n",
        "plt.legend()\n",
        "plt.show()"
      ],
      "metadata": {
        "colab": {
          "base_uri": "https://localhost:8080/",
          "height": 371
        },
        "id": "fn1JQHXScccC",
        "outputId": "e2f53af1-74d0-4fe8-a0ce-28798fe68d7a"
      },
      "execution_count": null,
      "outputs": [
        {
          "output_type": "display_data",
          "data": {
            "text/plain": [
              "<Figure size 720x388.8 with 1 Axes>"
            ],
            "image/png": "[encoded data removed]"
          },
          "metadata": {
            "needs_background": "light"
          }
        }
      ]
    },
    {
      "cell_type": "markdown",
      "source": [
        "# Практика в Python. Вычисление пределов ф-ий"
      ],
      "metadata": {
        "id": "PHbzhawzUbxu"
      }
    },
    {
      "cell_type": "code",
      "source": [
        "import sympy as sym\n",
        "x = sym.Symbol('x') # X - символьная переменная\n",
        "sym.limit(sym.sin(x)/x, x, 0)"
      ],
      "metadata": {
        "colab": {
          "base_uri": "https://localhost:8080/",
          "height": 37
        },
        "id": "bmEns0wkUh_L",
        "outputId": "3df47e72-acac-47a8-fe8c-6644e9b37171"
      },
      "execution_count": 3,
      "outputs": [
        {
          "output_type": "execute_result",
          "data": {
            "text/plain": [
              "1"
            ],
            "text/latex": "$\\displaystyle 1$"
          },
          "metadata": {},
          "execution_count": 3
        }
      ]
    },
    {
      "cell_type": "code",
      "source": [
        "sym.limit(sym.sin(x)/x,x,sym.oo)"
      ],
      "metadata": {
        "colab": {
          "base_uri": "https://localhost:8080/",
          "height": 37
        },
        "id": "Uuq7d2M2VYyh",
        "outputId": "970a4bb3-428e-4fda-abf7-069f34dd299a"
      },
      "execution_count": 4,
      "outputs": [
        {
          "output_type": "execute_result",
          "data": {
            "text/plain": [
              "0"
            ],
            "text/latex": "$\\displaystyle 0$"
          },
          "metadata": {},
          "execution_count": 4
        }
      ]
    },
    {
      "cell_type": "code",
      "source": [
        "sym.limit(1/x, x, 0)"
      ],
      "metadata": {
        "colab": {
          "base_uri": "https://localhost:8080/",
          "height": 37
        },
        "id": "aZi8vBb7WYfq",
        "outputId": "bedaf0fc-627b-4984-b2cc-29343c0c911c"
      },
      "execution_count": 6,
      "outputs": [
        {
          "output_type": "execute_result",
          "data": {
            "text/plain": [
              "oo"
            ],
            "text/latex": "$\\displaystyle \\infty$"
          },
          "metadata": {},
          "execution_count": 6
        }
      ]
    },
    {
      "cell_type": "code",
      "source": [
        "for kk in range(5):\n",
        "  x = 0.01**kk\n",
        "  print((1 + x)**(1/x))"
      ],
      "metadata": {
        "colab": {
          "base_uri": "https://localhost:8080/"
        },
        "id": "1EmyP-InWvII",
        "outputId": "80f3cc4a-7575-4f49-cf19-3e1defcbf856"
      },
      "execution_count": 7,
      "outputs": [
        {
          "output_type": "stream",
          "name": "stdout",
          "text": [
            "2.0\n",
            "2.7048138294215285\n",
            "2.7181459268249255\n",
            "2.718280469095753\n",
            "2.7182817983473577\n"
          ]
        }
      ]
    }
  ]
}