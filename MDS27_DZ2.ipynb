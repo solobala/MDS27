{
  "nbformat": 4,
  "nbformat_minor": 0,
  "metadata": {
    "colab": {
      "provenance": [],
      "authorship_tag": "ABX9TyMNKb9l2ljjHEHDX14i4pZU",
      "include_colab_link": true
    },
    "kernelspec": {
      "name": "python3",
      "display_name": "Python 3"
    },
    "language_info": {
      "name": "python"
    }
  },
  "cells": [
    {
      "cell_type": "markdown",
      "metadata": {
        "id": "view-in-github",
        "colab_type": "text"
      },
      "source": [
        "<a href=\"https://colab.research.google.com/github/solobala/MDS27/blob/main/MDS27_DZ2.ipynb\" target=\"_parent\"><img src=\"https://colab.research.google.com/assets/colab-badge.svg\" alt=\"Open In Colab\"/></a>"
      ]
    },
    {
      "cell_type": "markdown",
      "source": [
        "### Домашнее задание \"Линейная алгебра. Матрицы\".\n",
        "Уровень 0:\n",
        "Задание 1\n",
        "Создайте матрицу 3 на 3, заполненную числами от 1 до 9\n",
        "\n",
        "Прибавьте к ней матрицу с единицами на диагонали\n",
        "\n",
        "Умножьте полученную матрицу на вектор (1, 2, 3)\n",
        "\n",
        "Вычислить транспонированную матрицу \n",
        " от полученной в результате прибавления матрицы\n",
        "\n",
        "Посчитайте обратную матрицу к полученной в результате прибавления матрице"
      ],
      "metadata": {
        "id": "BLLT2bXmJ2X3"
      }
    },
    {
      "cell_type": "code",
      "execution_count": null,
      "metadata": {
        "colab": {
          "base_uri": "https://localhost:8080/"
        },
        "id": "0NvwYUvkJzjC",
        "outputId": "261616ea-c26c-4c73-84d5-5811707112be"
      },
      "outputs": [
        {
          "output_type": "execute_result",
          "data": {
            "text/plain": [
              "array([[1, 2, 3],\n",
              "       [4, 5, 6],\n",
              "       [7, 8, 9]])"
            ]
          },
          "metadata": {},
          "execution_count": 1
        }
      ],
      "source": [
        "import numpy as np\n",
        "A1 = np.array([[1,2,3], [4,5,6], [7,8,9]]) #  Создайте матрицу 3 на 3, заполненную числами от 1 до 9\n",
        "A1"
      ]
    },
    {
      "cell_type": "code",
      "source": [
        "A2 = np.eye(3) # единичная матрица\n",
        "A2"
      ],
      "metadata": {
        "colab": {
          "base_uri": "https://localhost:8080/"
        },
        "id": "iLJKJtUqgnUc",
        "outputId": "e9937b47-4e9c-4429-dc51-19d358a7f843"
      },
      "execution_count": null,
      "outputs": [
        {
          "output_type": "execute_result",
          "data": {
            "text/plain": [
              "array([[1., 0., 0.],\n",
              "       [0., 1., 0.],\n",
              "       [0., 0., 1.]])"
            ]
          },
          "metadata": {},
          "execution_count": 2
        }
      ]
    },
    {
      "cell_type": "code",
      "source": [
        "A3 = A1 + A2 #  Прибавьте к ней матрицу с единицами на диагонале\n",
        "A3"
      ],
      "metadata": {
        "colab": {
          "base_uri": "https://localhost:8080/"
        },
        "id": "lLGuXm-LKR5M",
        "outputId": "9d9f90d4-dcaf-49a7-a803-e6f774a18a21"
      },
      "execution_count": null,
      "outputs": [
        {
          "output_type": "execute_result",
          "data": {
            "text/plain": [
              "array([[ 2.,  2.,  3.],\n",
              "       [ 4.,  6.,  6.],\n",
              "       [ 7.,  8., 10.]])"
            ]
          },
          "metadata": {},
          "execution_count": 3
        }
      ]
    },
    {
      "cell_type": "code",
      "source": [
        "B = np.array([1,2,3])\n",
        "A4 = np.matmul(A3, B) #  Умножьте полученную матрицу на вектор (1, 2, 3)\n",
        "A4"
      ],
      "metadata": {
        "colab": {
          "base_uri": "https://localhost:8080/"
        },
        "id": "11oubPu6hGPk",
        "outputId": "95529972-b94e-4e4a-925d-076e7456d96a"
      },
      "execution_count": null,
      "outputs": [
        {
          "output_type": "execute_result",
          "data": {
            "text/plain": [
              "array([15., 34., 53.])"
            ]
          },
          "metadata": {},
          "execution_count": 4
        }
      ]
    },
    {
      "cell_type": "code",
      "source": [
        "A5 = np.transpose(A3) #  Вычислить транспонированную матрицу от полученной в результате прибавления матрицы\n",
        "A5"
      ],
      "metadata": {
        "colab": {
          "base_uri": "https://localhost:8080/"
        },
        "id": "RzJ32aT4hMGk",
        "outputId": "b5326b04-e5ec-4e35-a57f-96d04d1d2f2f"
      },
      "execution_count": null,
      "outputs": [
        {
          "output_type": "execute_result",
          "data": {
            "text/plain": [
              "array([[ 2.,  4.,  7.],\n",
              "       [ 2.,  6.,  8.],\n",
              "       [ 3.,  6., 10.]])"
            ]
          },
          "metadata": {},
          "execution_count": 5
        }
      ]
    },
    {
      "cell_type": "code",
      "source": [
        "A6 = np.linalg.inv(A3) #  Посчитайте обратную матрицу к полученной в результате прибавления матрице\n",
        "A6"
      ],
      "metadata": {
        "colab": {
          "base_uri": "https://localhost:8080/"
        },
        "id": "adfh5pUNhVVW",
        "outputId": "7d996263-acbc-4fc5-f52d-d66dc6828b76"
      },
      "execution_count": null,
      "outputs": [
        {
          "output_type": "execute_result",
          "data": {
            "text/plain": [
              "array([[-6.00000000e+00, -2.00000000e+00,  3.00000000e+00],\n",
              "       [-1.00000000e+00,  5.00000000e-01, -2.33146835e-16],\n",
              "       [ 5.00000000e+00,  1.00000000e+00, -2.00000000e+00]])"
            ]
          },
          "metadata": {},
          "execution_count": 6
        }
      ]
    },
    {
      "cell_type": "code",
      "source": [
        "A3 @ A6 # проверка правильности нахождения обратной матрицы. Произведение 2 матриц - единичная матрица той же размерности, по гл. диаг - 1, остальные позиции - 0( с мащш. т.зрения)"
      ],
      "metadata": {
        "colab": {
          "base_uri": "https://localhost:8080/"
        },
        "id": "IPbBr-dwj7MI",
        "outputId": "d292db6e-cb4b-4ec9-aad1-800d06b4e4bc"
      },
      "execution_count": null,
      "outputs": [
        {
          "output_type": "execute_result",
          "data": {
            "text/plain": [
              "array([[ 1.00000000e+00, -3.33066907e-16,  6.66133815e-16],\n",
              "       [-5.32907052e-15,  1.00000000e+00,  1.33226763e-15],\n",
              "       [-1.77635684e-15, -1.11022302e-15,  1.00000000e+00]])"
            ]
          },
          "metadata": {},
          "execution_count": 7
        }
      ]
    },
    {
      "cell_type": "code",
      "source": [
        "np.linalg.det(A3) * np.linalg.det(A6) # проверка правильности нахождения обратной матрицы. Произведение определителей 2 матриц - единица. Такая же операция, как и в предыдущей ячейке, другой вид написания"
      ],
      "metadata": {
        "colab": {
          "base_uri": "https://localhost:8080/"
        },
        "id": "qk8DUKDgkZc4",
        "outputId": "ab2d3003-44cc-473e-ad2e-6a901e205031"
      },
      "execution_count": null,
      "outputs": [
        {
          "output_type": "execute_result",
          "data": {
            "text/plain": [
              "0.9999999999999988"
            ]
          },
          "metadata": {},
          "execution_count": 8
        }
      ]
    },
    {
      "cell_type": "markdown",
      "source": [
        "#### Уровень 1:\n",
        "Задание 2\n",
        "Найдите собственные значения и собственные вектора матрицы:\n",
        "\n",
        "m = np.array([[2, 2],\n",
        "              [1, 3]])\n",
        "print(m)"
      ],
      "metadata": {
        "id": "-TeGPfZGJ_T_"
      }
    },
    {
      "cell_type": "code",
      "source": [
        "m = np.array([[2, 2], [1, 3]])\n",
        "res = np.linalg.eig(m)  #  Найдите собственные значения и собственные вектора матрицы. Первый эл-т массива - список собственных значений. Второй эл-т массива - список собственные вектора\n",
        "res"
      ],
      "metadata": {
        "colab": {
          "base_uri": "https://localhost:8080/"
        },
        "id": "6ATq-2tlKHTo",
        "outputId": "2409100a-4b6d-4d9f-9293-bb00345163ef"
      },
      "execution_count": null,
      "outputs": [
        {
          "output_type": "execute_result",
          "data": {
            "text/plain": [
              "(array([1., 4.]), array([[-0.89442719, -0.70710678],\n",
              "        [ 0.4472136 , -0.70710678]]))"
            ]
          },
          "metadata": {},
          "execution_count": 10
        }
      ]
    },
    {
      "cell_type": "markdown",
      "source": [
        "#### Приведем собственные вектора в более красивый вид. Для этого транспонируем матрицу с векторами и выполним нормирование каждого из векторов"
      ],
      "metadata": {
        "id": "U-HbUQBuog4U"
      }
    },
    {
      "cell_type": "code",
      "source": [
        "res2 = res[1]\n",
        "res3 = np.transpose(res2)\n",
        "res3"
      ],
      "metadata": {
        "colab": {
          "base_uri": "https://localhost:8080/"
        },
        "id": "PWO41l2im9xp",
        "outputId": "4db58979-6f07-4965-a8b6-6b1294a2eca6"
      },
      "execution_count": null,
      "outputs": [
        {
          "output_type": "execute_result",
          "data": {
            "text/plain": [
              "array([[-0.89442719,  0.4472136 ],\n",
              "       [-0.70710678, -0.70710678]])"
            ]
          },
          "metadata": {},
          "execution_count": 16
        }
      ]
    },
    {
      "cell_type": "code",
      "source": [
        "res3[0]/0.4472136 # первый собственный вектор делим на одну из его координат"
      ],
      "metadata": {
        "colab": {
          "base_uri": "https://localhost:8080/"
        },
        "id": "gZ-Spvg1n1sa",
        "outputId": "b3748079-2b32-485c-b77e-4553d4ad029b"
      },
      "execution_count": null,
      "outputs": [
        {
          "output_type": "execute_result",
          "data": {
            "text/plain": [
              "array([-1.99999998,  0.99999999])"
            ]
          },
          "metadata": {},
          "execution_count": 17
        }
      ]
    },
    {
      "cell_type": "code",
      "source": [
        "res3[1]/-0.70710678 # второй собственный вектор делим на на одну из его координат"
      ],
      "metadata": {
        "colab": {
          "base_uri": "https://localhost:8080/"
        },
        "id": "Qrkds9qmoXx3",
        "outputId": "97d8cecb-6856-4ac0-e4c1-3586af1039a9"
      },
      "execution_count": null,
      "outputs": [
        {
          "output_type": "execute_result",
          "data": {
            "text/plain": [
              "array([1., 1.])"
            ]
          },
          "metadata": {},
          "execution_count": 18
        }
      ]
    },
    {
      "cell_type": "code",
      "source": [
        "print(f'Собственные вектора после нормиррования: {np.transpose(np.linalg.eig(m)[1])[0]/np.transpose(np.linalg.eig(m)[1])[0][1]}, {np.transpose(np.linalg.eig(m)[1])[1]/np.transpose(np.linalg.eig(m)[1])[1][1]}')"
      ],
      "metadata": {
        "colab": {
          "base_uri": "https://localhost:8080/"
        },
        "id": "kUhuSrh39YdS",
        "outputId": "9a1e0ba7-3a0e-4ea8-a202-e606d38bc276"
      },
      "execution_count": null,
      "outputs": [
        {
          "output_type": "stream",
          "name": "stdout",
          "text": [
            "Собственные вектора после нормиррования: [-2.  1.], [1. 1.]\n"
          ]
        }
      ]
    },
    {
      "cell_type": "markdown",
      "source": [
        "#### Задание 3\n",
        "Придумайте матрицу, у которой определитель = 1, и все элементы не равны 0.\n",
        "\n",
        "P.S. Матрица должна быть ненулевой и размерностью не менее 2!"
      ],
      "metadata": {
        "id": "zw9Hru-PKHyI"
      }
    },
    {
      "cell_type": "code",
      "source": [
        "A1 = np.array([[4,7], [1,2]])\n",
        "np.linalg.det(A1)"
      ],
      "metadata": {
        "colab": {
          "base_uri": "https://localhost:8080/"
        },
        "id": "xlChos1_o_he",
        "outputId": "adae0db5-9adf-4dec-aec1-c3b7f5905d34"
      },
      "execution_count": null,
      "outputs": [
        {
          "output_type": "execute_result",
          "data": {
            "text/plain": [
              "1.0"
            ]
          },
          "metadata": {},
          "execution_count": 20
        }
      ]
    },
    {
      "cell_type": "code",
      "source": [
        "A2=np.array([[1,1,2],[3,1,1],[2,1,1]])\n",
        "np.linalg.det(A2)"
      ],
      "metadata": {
        "colab": {
          "base_uri": "https://localhost:8080/"
        },
        "id": "mZtlT4nwrtfP",
        "outputId": "9e64a7bb-cf37-497a-f2b2-a87efb31de76"
      },
      "execution_count": null,
      "outputs": [
        {
          "output_type": "execute_result",
          "data": {
            "text/plain": [
              "1.0000000000000002"
            ]
          },
          "metadata": {},
          "execution_count": 27
        }
      ]
    },
    {
      "cell_type": "markdown",
      "source": [
        "Просто подобрала. Алгоритм решения задачи для матрицы произвольного размера не придумала. Решение, подсказанное преподавателем"
      ],
      "metadata": {
        "id": "LgNcn_u0vSVP"
      }
    },
    {
      "cell_type": "code",
      "source": [
        "det = 0 # для матрицы 5х5 считает 4 минуты 22 с\n",
        "\n",
        "while det != 1:\n",
        "    a = np.random.randint(-10,10,(5,5))\n",
        "    det=np.linalg.det(a)\n",
        "    \n",
        "print('искомая матрица: \\n',a)"
      ],
      "metadata": {
        "colab": {
          "base_uri": "https://localhost:8080/"
        },
        "id": "1_CHBUQ9w3oX",
        "outputId": "c7b86840-110d-4188-9599-d739ed74eac6"
      },
      "execution_count": null,
      "outputs": [
        {
          "output_type": "stream",
          "name": "stdout",
          "text": [
            "искомая матрица: \n",
            " [[-10   0   2  -5   5]\n",
            " [ -5   9   1   3  -2]\n",
            " [  9   6  -1  -2   4]\n",
            " [ -8  -9   2  -4  -2]\n",
            " [  0   7   1  -2   1]]\n"
          ]
        }
      ]
    }
  ]
}