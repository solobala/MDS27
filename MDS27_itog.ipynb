{
  "nbformat": 4,
  "nbformat_minor": 0,
  "metadata": {
    "colab": {
      "provenance": [],
      "collapsed_sections": [
        "z0XQNKvHbC21",
        "Nxbw_bqUbXZv",
        "CN_TqS0bl9DF",
        "WJsIBNtgmxbp"
      ],
      "authorship_tag": "ABX9TyOGOs1IbuLN5O9yHmdRJAru",
      "include_colab_link": true
    },
    "kernelspec": {
      "name": "python3",
      "display_name": "Python 3"
    },
    "language_info": {
      "name": "python"
    }
  },
  "cells": [
    {
      "cell_type": "markdown",
      "metadata": {
        "id": "view-in-github",
        "colab_type": "text"
      },
      "source": [
        "<a href=\"https://colab.research.google.com/github/solobala/MDS27/blob/main/MDS27_itog.ipynb\" target=\"_parent\"><img src=\"https://colab.research.google.com/assets/colab-badge.svg\" alt=\"Open In Colab\"/></a>"
      ]
    },
    {
      "cell_type": "code",
      "source": [
        "import numpy as np\n",
        "import matplotlib.pyplot as plt\n",
        "import sympy as sym\n",
        "from sympy import *\n",
        "import scipy\n",
        "import pandas as pd\n",
        "%matplotlib inline\n",
        "from scipy.optimize import curve_fit\n",
        "import warnings\n"
      ],
      "metadata": {
        "id": "zmD2xElJbiUc"
      },
      "execution_count": null,
      "outputs": []
    },
    {
      "cell_type": "markdown",
      "source": [
        "### Задание 1\n",
        "![image.png](data:image/png;base64,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)"
      ],
      "metadata": {
        "id": "z0XQNKvHbC21"
      }
    },
    {
      "cell_type": "code",
      "execution_count": null,
      "metadata": {
        "colab": {
          "base_uri": "https://localhost:8080/"
        },
        "id": "soESFt6Qa9rS",
        "outputId": "079a9173-430a-43c0-b4fb-aba854f9a69c"
      },
      "outputs": [
        {
          "output_type": "execute_result",
          "data": {
            "text/plain": [
              "tan(sin(x) + cos(2*x + 3))**2"
            ],
            "text/latex": "$\\displaystyle \\tan^{2}{\\left(\\sin{\\left(x \\right)} + \\cos{\\left(2 x + 3 \\right)} \\right)}$"
          },
          "metadata": {},
          "execution_count": 2
        }
      ],
      "source": [
        "# Получим ф-ю в виде SymPy\n",
        "x = sym.Symbol('x')\n",
        "str_expression = '(tan(sin(x) + cos(2*x +3)))**2'\n",
        "expression = sym.sympify(str_expression)\n",
        "expression"
      ]
    },
    {
      "cell_type": "code",
      "source": [
        "# Получим выражения для производной в общем виде\n",
        "result = sym.diff(expression,x)\n",
        "result"
      ],
      "metadata": {
        "colab": {
          "base_uri": "https://localhost:8080/"
        },
        "id": "kiaUYACK5o5q",
        "outputId": "c61df154-4737-4fea-bb9f-cf6e6ff2753b"
      },
      "execution_count": null,
      "outputs": [
        {
          "output_type": "execute_result",
          "data": {
            "text/plain": [
              "2*(-2*sin(2*x + 3) + cos(x))*(tan(sin(x) + cos(2*x + 3))**2 + 1)*tan(sin(x) + cos(2*x + 3))"
            ],
            "text/latex": "$\\displaystyle 2 \\left(- 2 \\sin{\\left(2 x + 3 \\right)} + \\cos{\\left(x \\right)}\\right) \\left(\\tan^{2}{\\left(\\sin{\\left(x \\right)} + \\cos{\\left(2 x + 3 \\right)} \\right)} + 1\\right) \\tan{\\left(\\sin{\\left(x \\right)} + \\cos{\\left(2 x + 3 \\right)} \\right)}$"
          },
          "metadata": {},
          "execution_count": 3
        }
      ]
    },
    {
      "cell_type": "code",
      "source": [
        "# Найдем значение 1 производной ф-ии  в точке x0=1\n",
        "a=np.array([1])\n",
        "f1 = lambdify(x, result, \"numpy\")\n",
        "print(f'Значение производной функции {expression} в точке x0=1 = {f1(a)[0]}')"
      ],
      "metadata": {
        "colab": {
          "base_uri": "https://localhost:8080/"
        },
        "id": "my4biymZHfNq",
        "outputId": "84eecbea-74aa-4dfe-c046-43b27b214d35"
      },
      "execution_count": null,
      "outputs": [
        {
          "output_type": "stream",
          "name": "stdout",
          "text": [
            "Значение производной функции tan(sin(x) + cos(2*x + 3))**2 в точке x0=1 = 55.385917635337854\n"
          ]
        }
      ]
    },
    {
      "cell_type": "markdown",
      "source": [
        "### Задание 2\n",
        "![image.png](data:image/png;base64,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)\n",
        "\n",
        "![image.png](data:image/png;base64,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)"
      ],
      "metadata": {
        "id": "Nxbw_bqUbXZv"
      }
    },
    {
      "cell_type": "code",
      "source": [
        "A = np.array([])\n",
        "def init(A):\n",
        "  \"\"\"\n",
        "  Задаем исходную матрицу\n",
        "  \"\"\"\n",
        "  A = np.array([\n",
        "  [-100, -100, 1],\n",
        "  [0, 100, 1],\n",
        "  [100, -100, 1],\n",
        "  [-100, -100, 1]\n",
        "  ])\n",
        "  return A"
      ],
      "metadata": {
        "id": "cWjxtqVwcK4s"
      },
      "execution_count": null,
      "outputs": []
    },
    {
      "cell_type": "code",
      "source": [
        "def get_draw(A,x_move,y_move):\n",
        "  \"\"\"\n",
        "  Инициализирует исходную матрицу.\n",
        "  Выводит чертеж фигуры с вершинами,\n",
        "  кoординаты которых содержатся в строках матрицы А.\n",
        "  Учитывает смещение x_move, y_move, z_move\n",
        "  Возвращает матрицу\n",
        "  \"\"\"\n",
        "\n",
        "  x = A[:,0]\n",
        "  y = A[:,1]\n",
        "  plt.plot(x, y)\n",
        "  plt.ylim([-200+x_move, 200+y_move])\n",
        "  plt.xlim([-200+x_move, 200+y_move])\n",
        "  return(A) "
      ],
      "metadata": {
        "id": "nx4amvEYcbMC"
      },
      "execution_count": null,
      "outputs": []
    },
    {
      "cell_type": "code",
      "source": [
        "def get_stretch(x,y,z,A, x_move, y_move):\n",
        "  \"\"\"\n",
        "  Выполняет растяжение - сжатие по осям x,y,z\n",
        "  в соответствии с передаваемыми коэффициентами\n",
        "  \"\"\"\n",
        "  B = np.array([[x,0,0],[0,y,0],[0,0,z]])\n",
        "  res = B @ A.transpose()\n",
        "  tt = res.transpose()\n",
        "  get_draw(tt,x_move, y_move)\n",
        "  return tt"
      ],
      "metadata": {
        "id": "3VgqvthxciE5"
      },
      "execution_count": null,
      "outputs": []
    },
    {
      "cell_type": "code",
      "source": [
        "def move(x,y,z,A):\n",
        "  \"\"\"\n",
        "  Выполняет смещение вдоль заданных осей \n",
        "  \"\"\"\n",
        "  B = np.array([[x,y,z],[x,y,z], [x,y,z], [x,y,z]])\n",
        "  A+=B\n",
        "  get_draw(A, x,y)\n",
        "  print(f'A= {A}')"
      ],
      "metadata": {
        "id": "0XfUSrxwcpQe"
      },
      "execution_count": null,
      "outputs": []
    },
    {
      "cell_type": "code",
      "source": [
        "# Исходный рисунок\n",
        "get_draw(init(A),0,0)"
      ],
      "metadata": {
        "colab": {
          "base_uri": "https://localhost:8080/",
          "height": 342
        },
        "id": "iRZ05lXBeX4o",
        "outputId": "d3509dca-9237-4011-f204-9b76521f332f"
      },
      "execution_count": null,
      "outputs": [
        {
          "output_type": "execute_result",
          "data": {
            "text/plain": [
              "array([[-100, -100,    1],\n",
              "       [   0,  100,    1],\n",
              "       [ 100, -100,    1],\n",
              "       [-100, -100,    1]])"
            ]
          },
          "metadata": {},
          "execution_count": 7
        },
        {
          "output_type": "display_data",
          "data": {
            "text/plain": [
              "<Figure size 432x288 with 1 Axes>"
            ],
            "image/png": "[encoded data removed]"
          },
          "metadata": {
            "needs_background": "light"
          }
        }
      ]
    },
    {
      "cell_type": "code",
      "source": [
        "# Первая трансформация - масштабирование на (0.5, 1.2)\n",
        "A = get_stretch(0.5,1.2,1,init(A),0,0)"
      ],
      "metadata": {
        "colab": {
          "base_uri": "https://localhost:8080/",
          "height": 269
        },
        "id": "uIYa1XmCedgU",
        "outputId": "44bd1ce7-2831-462a-e616-b4745dfda2e6"
      },
      "execution_count": null,
      "outputs": [
        {
          "output_type": "display_data",
          "data": {
            "text/plain": [
              "<Figure size 432x288 with 1 Axes>"
            ],
            "image/png": "[encoded data removed]"
          },
          "metadata": {
            "needs_background": "light"
          }
        }
      ]
    },
    {
      "cell_type": "code",
      "source": [
        "A # результат 1 трансформации"
      ],
      "metadata": {
        "colab": {
          "base_uri": "https://localhost:8080/"
        },
        "id": "7HXngEa4jAwV",
        "outputId": "f28b92c9-de9e-4c62-8ced-e14f396f4008"
      },
      "execution_count": null,
      "outputs": [
        {
          "output_type": "execute_result",
          "data": {
            "text/plain": [
              "array([[ -50., -120.,    1.],\n",
              "       [   0.,  120.,    1.],\n",
              "       [  50., -120.,    1.],\n",
              "       [ -50., -120.,    1.]])"
            ]
          },
          "metadata": {},
          "execution_count": 9
        }
      ]
    },
    {
      "cell_type": "code",
      "source": [
        "# Вторая трансформация - смещение на (200, 300)\n",
        "move(200,300,1,A)"
      ],
      "metadata": {
        "colab": {
          "base_uri": "https://localhost:8080/",
          "height": 342
        },
        "id": "UpCT31qgfTb0",
        "outputId": "86536794-ec69-431b-b120-525eef345384"
      },
      "execution_count": null,
      "outputs": [
        {
          "output_type": "stream",
          "name": "stdout",
          "text": [
            "A= [[150. 180.   2.]\n",
            " [200. 420.   2.]\n",
            " [250. 180.   2.]\n",
            " [150. 180.   2.]]\n"
          ]
        },
        {
          "output_type": "display_data",
          "data": {
            "text/plain": [
              "<Figure size 432x288 with 1 Axes>"
            ],
            "image/png": "[encoded data removed]"
          },
          "metadata": {
            "needs_background": "light"
          }
        }
      ]
    },
    {
      "cell_type": "markdown",
      "source": [
        "### Задание 3\n",
        "Найдите собственные значения и собственные вектора матрицы:"
      ],
      "metadata": {
        "id": "CN_TqS0bl9DF"
      }
    },
    {
      "cell_type": "code",
      "source": [
        "m = np.array([[1, 4],\n",
        "              [1, 1]])\n",
        "print(m)"
      ],
      "metadata": {
        "colab": {
          "base_uri": "https://localhost:8080/"
        },
        "id": "9fThA-JhmDRE",
        "outputId": "1a9995c1-ca83-4ed4-8e31-71efb6f650ec"
      },
      "execution_count": null,
      "outputs": [
        {
          "output_type": "stream",
          "name": "stdout",
          "text": [
            "[[1 4]\n",
            " [1 1]]\n"
          ]
        }
      ]
    },
    {
      "cell_type": "code",
      "source": [
        "znach, vektors = np.linalg.eig(m)\n",
        "print(f'Собственные значения матрицы: {znach}')\n",
        "print(f'Собственные вектора матрицы: {vektors}') "
      ],
      "metadata": {
        "colab": {
          "base_uri": "https://localhost:8080/"
        },
        "id": "ly_gp1DjmJ9m",
        "outputId": "b4355a15-175f-4e65-e408-af903c193dca"
      },
      "execution_count": null,
      "outputs": [
        {
          "output_type": "stream",
          "name": "stdout",
          "text": [
            "Собственные значения матрицы: [ 3. -1.]\n",
            "Собственные вектора матрицы: [[ 0.89442719 -0.89442719]\n",
            " [ 0.4472136   0.4472136 ]]\n"
          ]
        }
      ]
    },
    {
      "cell_type": "markdown",
      "source": [
        "### Задание 4\n",
        "Дана функция с неизвестными параметрами a и b, вам также известны значения функции fx в точках x.\n",
        "\n",
        "Найдите оптимальные параметры a, b, минимизирующие абсолютную ошибку error."
      ],
      "metadata": {
        "id": "WJsIBNtgmxbp"
      }
    },
    {
      "cell_type": "code",
      "source": [
        "def f(x, a, b):\n",
        "    return np.e**a * np.sin(b*x) + x"
      ],
      "metadata": {
        "id": "NFGjFDdSmzzF"
      },
      "execution_count": null,
      "outputs": []
    },
    {
      "cell_type": "code",
      "source": [
        "x = np.array([0.        , 0.26315789, 0.52631579, 0.78947368, 1.05263158,\n",
        "              1.31578947, 1.57894737, 1.84210526, 2.10526316, 2.36842105,\n",
        "              2.63157895, 2.89473684, 3.15789474, 3.42105263, 3.68421053,\n",
        "              3.94736842, 4.21052632, 4.47368421, 4.73684211, 5.        ])\n",
        "\n",
        "fx = np.array([  0.        , -12.01819092, -18.90968634, -17.68786571,\n",
        "                -8.7529108 ,   4.27524517,  16.06801336,  21.81250213,\n",
        "                19.22059845,   9.48411207,  -3.22273056, -13.48576488,\n",
        "               -16.91096359, -11.95866834,  -0.58630088,  12.56873816,\n",
        "                22.12489421,  24.20292139,  18.04522521,   6.33211092])"
      ],
      "metadata": {
        "id": "3k18VKBum3C1"
      },
      "execution_count": null,
      "outputs": []
    },
    {
      "cell_type": "code",
      "source": [
        "plt.plot(x, fx)\n",
        "plt.show()"
      ],
      "metadata": {
        "id": "ddCxDWvrm6YF",
        "colab": {
          "base_uri": "https://localhost:8080/",
          "height": 265
        },
        "outputId": "df6bdb63-8026-4c1d-9443-f11dad44594c"
      },
      "execution_count": null,
      "outputs": [
        {
          "output_type": "display_data",
          "data": {
            "text/plain": [
              "<Figure size 432x288 with 1 Axes>"
            ],
            "image/png": "[encoded data removed]"
          },
          "metadata": {
            "needs_background": "light"
          }
        }
      ]
    },
    {
      "cell_type": "code",
      "source": [
        "def error(params):\n",
        "    return np.sum(np.abs(fx - f(x, params[0], params[1])))"
      ],
      "metadata": {
        "id": "4rZGBKkrm8s0"
      },
      "execution_count": null,
      "outputs": []
    },
    {
      "cell_type": "code",
      "source": [
        "warnings.filterwarnings('ignore')\n",
        "methods = ['lm', 'trf','dogbox'] # тестируемые методы\n",
        "res = curve_fit(f, xdata=x, ydata=fx, p0=np.array([-3, 3]), method='lm') # начальные значения a и b\n",
        "err_min = 0\n",
        "final_res = np.array([])\n",
        " \n",
        "err_min = error(res[0])  # начальная величина погрешности - база для сравнения\n",
        "for method in methods:\n",
        "  for a in range(-3,3):\n",
        "   for b in range(-3,3):\n",
        "      try:\n",
        "        res = curve_fit(f, xdata=x, ydata=fx, p0=np.array([a, b]), method=method)\n",
        "        err = error(res[0])   \n",
        "        if err < err_min:\n",
        "          err_min = err\n",
        "          final_res = np.array([res[0][0], res[0][1]])  \n",
        "          final_method = method\n",
        "      except  RuntimeError or RuntimeWarning:\n",
        "        pass \n",
        "print(f'Метод оптимизации: {final_method}, a: {final_res[0]}, b: {final_res[1]}, погрешность: {err_min}')            "
      ],
      "metadata": {
        "id": "0rfkgP7bm_f5",
        "colab": {
          "base_uri": "https://localhost:8080/"
        },
        "outputId": "83388d50-ad73-4258-a96e-3ff8086ced14"
      },
      "execution_count": null,
      "outputs": [
        {
          "output_type": "stream",
          "name": "stdout",
          "text": [
            "Метод оптимизации: trf, a: 3.000000000512699, b: -2.4999999994808166, погрешность: 1.5365083454454975e-06\n"
          ]
        }
      ]
    },
    {
      "cell_type": "code",
      "source": [
        "plt.figure(figsize=(12, 8))\n",
        "plt.plot(x, fx, color='blue')\n",
        "plt.plot(x, f(x, final_res[0], final_res[1]), color='red')\n",
        "plt.show()"
      ],
      "metadata": {
        "colab": {
          "base_uri": "https://localhost:8080/",
          "height": 483
        },
        "id": "77NNjmztwjzV",
        "outputId": "6a9effc5-5e69-4253-8739-5a8725b9ae68"
      },
      "execution_count": null,
      "outputs": [
        {
          "output_type": "display_data",
          "data": {
            "text/plain": [
              "<Figure size 864x576 with 1 Axes>"
            ],
            "image/png": "[encoded data removed]"
          },
          "metadata": {
            "needs_background": "light"
          }
        }
      ]
    },
    {
      "cell_type": "markdown",
      "source": [
        "### Задание 5.\n",
        "Дана матрица рейтингов фильмов (строки - пользователи (10 человек), столбцы - фильмы (15 фильмов)). Необходимо найти наиболее похожего пользователя по косинусной метрике для каждого из пользователей (ответ: 10 пар вида (x, y), где y - наиболее похожий пользователь на пользователя x)."
      ],
      "metadata": {
        "id": "bBgdQ2sjnbp7"
      }
    },
    {
      "cell_type": "code",
      "source": [
        "raitings = np.array([[ 4,  4,  9,  4,  1,  6, 10,  7,  9,  6,  9,  2,  8,  6,  6],\n",
        "                     [ 9,  2,  5, 10,  7,  8, 10,  5,  6,  2,  1,  6,  8,  9,  7],\n",
        "                     [ 1,  6,  8,  8,  4,  9,  3,  8, 10,  5,  2,  6,  8,  1,  6],\n",
        "                     [ 6,  1,  9,  7,  7,  9,  2,  3,  5,  1,  6,  6,  3,  2,  7],\n",
        "                     [ 3,  7,  3,  5,  7,  9,  9,  6,  2,  9,  1,  2,  8, 10,  6],\n",
        "                     [ 8,  3,  7,  3,  8,  6,  1,  8,  8,  6,  1,  9,  4, 10,  1],\n",
        "                     [ 9,  8,  4,  8,  8, 10,  6,  1,  1,  2,  9,  5,  2,  7,  2],\n",
        "                     [ 4,  1,  6,  4,  3, 10,  4,  4,  2,  8,  7,  9,  3,  8,  3],\n",
        "                     [ 2,  7,  7,  6, 10,  6,  8,  9,  8,  6, 10,  1,  7, 10,  4],\n",
        "                     [ 5, 10,  8,  8,  9,  7,  2,  9,  9, 10,  8,  8,  8,  6, 10]])"
      ],
      "metadata": {
        "id": "sMwUbIBwnirv"
      },
      "execution_count": null,
      "outputs": []
    },
    {
      "cell_type": "code",
      "source": [
        "def cosine( a, b ):\n",
        "    \"\"\"\n",
        "    Подсчет косинуса угла между векторами a, b по их координатам\n",
        "    \"\"\"\n",
        "    aLength = np.linalg.norm(a)\n",
        "    bLength = np.linalg.norm(b)\n",
        "    \n",
        "    return np.dot(a, b) / (aLength * bLength)"
      ],
      "metadata": {
        "id": "4woFZuL3-zz-"
      },
      "execution_count": null,
      "outputs": []
    },
    {
      "cell_type": "code",
      "source": [
        "def get_pair(i, matrix):\n",
        "  \"\"\"\n",
        "  На входе - номер строки матрицы и сама матрицы\n",
        "  Возвращает кортеж из 3 элементов: \n",
        "  исходного номера строки, наиболее близкого номера строки j, \n",
        "  косинусного сходства result\n",
        "  \"\"\"\n",
        "  dim = matrix.shape  # определяем размеры исходной матрицы\n",
        "  cosinus = 0\n",
        "  result = 0 \n",
        "  j_max = 0 \n",
        "  for j in range(dim[0]):\n",
        "    if i != j:\n",
        "      cosinus = cosine(matrix[i,:],matrix[j,:])\n",
        "      if cosinus > result:\n",
        "        result = cosinus\n",
        "        j_max = j\n",
        "  return(i, j_max, result)        "
      ],
      "metadata": {
        "id": "7KBuMQ3dX_-1"
      },
      "execution_count": null,
      "outputs": []
    },
    {
      "cell_type": "code",
      "source": [
        "dim=raitings.shape  # определяем размеры исходной матрицы\n",
        "print(f'Пары наиболее похожих пользователей: ')\n",
        "for i in range(dim[0]):\n",
        "  result =  get_pair(i, raitings)\n",
        "  print(f' {result[:2]}, косинусное сходство: {result[2]}')\n",
        "\n"
      ],
      "metadata": {
        "colab": {
          "base_uri": "https://localhost:8080/"
        },
        "id": "RHdzznmB-69D",
        "outputId": "550b4402-4ebe-4883-b017-25c545b2722d"
      },
      "execution_count": null,
      "outputs": [
        {
          "output_type": "stream",
          "name": "stdout",
          "text": [
            "Пары наиболее похожих пользователей: \n",
            " (0, 8), косинусное сходство: 0.9106598233573044\n",
            " (1, 4), косинусное сходство: 0.8713805223930228\n",
            " (2, 9), косинусное сходство: 0.9187305147356807\n",
            " (3, 9), косинусное сходство: 0.8588686958710952\n",
            " (4, 8), косинусное сходство: 0.8794847716076252\n",
            " (5, 9), косинусное сходство: 0.8551490764118892\n",
            " (6, 3), косинусное сходство: 0.832742107055763\n",
            " (7, 5), косинусное сходство: 0.8445168512565341\n",
            " (8, 0), косинусное сходство: 0.9106598233573044\n",
            " (9, 2), косинусное сходство: 0.9187305147356807\n"
          ]
        }
      ]
    }
  ]
}